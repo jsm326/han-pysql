{
 "cells": [
  {
   "cell_type": "markdown",
   "id": "5fbb85cc-612e-4bb4-a44d-e556e07c41ef",
   "metadata": {},
   "source": [
    "# DB연동\n",
    "- DB연동하는 것은 에러가 없어야 함\n",
    "- 해당 코드는 무조건 돌아가게끔 만들어야 함\n",
    "- MySQL에 문제가 생김\n",
    "  + 대처방안 : try-catch 구문"
   ]
  },
  {
   "cell_type": "code",
   "execution_count": 2,
   "id": "45d7ae1f-3e8d-4ca2-8669-f87546856cd1",
   "metadata": {},
   "outputs": [
    {
     "ename": "ZeroDivisionError",
     "evalue": "division by zero",
     "output_type": "error",
     "traceback": [
      "\u001b[1;31m---------------------------------------------------------------------------\u001b[0m",
      "\u001b[1;31mZeroDivisionError\u001b[0m                         Traceback (most recent call last)",
      "Cell \u001b[1;32mIn[2], line 4\u001b[0m\n\u001b[0;32m      1\u001b[0m numerator \u001b[38;5;241m=\u001b[39m \u001b[38;5;241m10\u001b[39m\n\u001b[0;32m      2\u001b[0m denominator \u001b[38;5;241m=\u001b[39m \u001b[38;5;241m0\u001b[39m\n\u001b[1;32m----> 4\u001b[0m result \u001b[38;5;241m=\u001b[39m \u001b[43mnumerator\u001b[49m\u001b[43m \u001b[49m\u001b[38;5;241;43m/\u001b[39;49m\u001b[43m \u001b[49m\u001b[43mdenominator\u001b[49m\n\u001b[0;32m      6\u001b[0m \u001b[38;5;66;03m# 하고 싶은 것은 결과 확인 출력을 꼭 하고 싶음, 어떤 일이 있어도\u001b[39;00m\n\u001b[0;32m      7\u001b[0m \u001b[38;5;28mprint\u001b[39m(\u001b[38;5;124m\"\u001b[39m\u001b[38;5;124m결과 확인\u001b[39m\u001b[38;5;124m\"\u001b[39m)\n",
      "\u001b[1;31mZeroDivisionError\u001b[0m: division by zero"
     ]
    }
   ],
   "source": [
    "numerator = 10\n",
    "denominator = 0\n",
    "\n",
    "result = numerator / denominator\n",
    "\n",
    "# 하고 싶은 것은 결과 확인 출력을 꼭 하고 싶음, 어떤 일이 있어도\n",
    "print(\"결과 확인\")"
   ]
  },
  {
   "cell_type": "code",
   "execution_count": 4,
   "id": "41802ff0-cdd1-4de6-8116-c75059833dc9",
   "metadata": {},
   "outputs": [
    {
     "name": "stdout",
     "output_type": "stream",
     "text": [
      "Error: 0으로 나눌 수 없음\n",
      "결과 확인\n"
     ]
    }
   ],
   "source": [
    "try :\n",
    "    numerator = 10\n",
    "    denominator = 0\n",
    "    result = numerator / denominator\n",
    "except ZeroDivisionError:\n",
    "    print(\"Error: 0으로 나눌 수 없음\")\n",
    "else:\n",
    "    print(\"결과확인 : \", rusult)\n",
    "finally:\n",
    "    print(\"결과 확인\")"
   ]
  },
  {
   "cell_type": "code",
   "execution_count": 13,
   "id": "0a7b2920-8277-44b0-89bc-39c4447fa868",
   "metadata": {},
   "outputs": [
    {
     "name": "stdin",
     "output_type": "stream",
     "text": [
      "숫자를 입력하세요!! adf\n"
     ]
    },
    {
     "name": "stdout",
     "output_type": "stream",
     "text": [
      "invalid literal for int() with\n",
      "결과 확인\n"
     ]
    }
   ],
   "source": [
    "try :\n",
    "    numerator = 10\n",
    "    denominator = int(input(\"숫자를 입력하세요!!\"))\n",
    "    result = numerator / denominator\n",
    "except ZeroDivisionError:\n",
    "    print(\"Error: 0으로 나눌 수 없음\")\n",
    "except ValueError:\n",
    "    print(\"invalid literal for int() with\")\n",
    "else:\n",
    "    print(\"결과확인 : \", result)\n",
    "finally:\n",
    "    print(\"결과 확인\")"
   ]
  },
  {
   "cell_type": "markdown",
   "id": "3c9af53f-b96a-45f2-a437-a4549d7cd13b",
   "metadata": {},
   "source": [
    "# Step 1. Connect ot Server"
   ]
  },
  {
   "cell_type": "code",
   "execution_count": 15,
   "id": "0cb54e53-5210-405c-8c1c-a45535a693fa",
   "metadata": {},
   "outputs": [],
   "source": [
    "import os\n",
    "from mysql import connector\n",
    "\n",
    "PASSWORD = '1234'"
   ]
  },
  {
   "cell_type": "markdown",
   "id": "33ff852c-1eb6-4399-b445-e6c7ccca59b0",
   "metadata": {},
   "source": [
    "- 기초문법 중급 레벨 ( with vs python decorator)"
   ]
  },
  {
   "cell_type": "code",
   "execution_count": 16,
   "id": "d01cc2fd-8eec-4fd8-afbd-954cfda91ec3",
   "metadata": {},
   "outputs": [
    {
     "name": "stdout",
     "output_type": "stream",
     "text": [
      "Database 객체 : <mysql.connector.connection_cext.CMySQLConnection object at 0x0000016A3E052450>\n"
     ]
    }
   ],
   "source": [
    "try:\n",
    "    with connector.connect(\n",
    "        host = 'localhost',\n",
    "        user = 'root',\n",
    "        password = PASSWORD\n",
    "    ) as database:\n",
    "        print(f\"Database 객체 : {database}\")\n",
    "except connector.Error as e:\n",
    "    print(e)"
   ]
  },
  {
   "cell_type": "markdown",
   "id": "4d26dfa1-9d29-487d-b272-42d79eb25a67",
   "metadata": {},
   "source": [
    "# Step 2. Creating New DB"
   ]
  },
  {
   "cell_type": "code",
   "execution_count": 17,
   "id": "46c2e877-6d5f-466c-9b6c-f3dc182fdc78",
   "metadata": {},
   "outputs": [
    {
     "name": "stdout",
     "output_type": "stream",
     "text": [
      "Database 객체 : <mysql.connector.connection_cext.CMySQLConnection object at 0x0000016A3E050350>\n",
      "('book_ratings',)\n",
      "('classicmodels',)\n",
      "('information_schema',)\n",
      "('instacart',)\n",
      "('modeldb',)\n",
      "('mydata',)\n",
      "('mydaya2',)\n",
      "('mysql',)\n",
      "('performance_schema',)\n",
      "('sakila',)\n",
      "('sys',)\n",
      "('testdb',)\n",
      "('titanic',)\n",
      "('world',)\n"
     ]
    }
   ],
   "source": [
    "try:\n",
    "    with connector.connect(\n",
    "        host = 'localhost',\n",
    "        user = 'root',\n",
    "        password = PASSWORD\n",
    "    ) as database:\n",
    "        print(f\"Database 객체 : {database}\")\n",
    "        \n",
    "        # 쿼리문 작성\n",
    "        create_db = \"CREATE DATABASE book_ratings;\"\n",
    "        with database.cursor() as cursor:\n",
    "            cursor.execute(create_db)\n",
    "\n",
    "            # 생성된 DB 확인 쿼리문 쓰기\n",
    "            show_existing_db = \"SHOW DATABASES;\"\n",
    "            cursor.execute(show_existing_db)\n",
    "            for db in cursor:\n",
    "                print(db)\n",
    "\n",
    "except connector.Error as e:\n",
    "    print(e)"
   ]
  },
  {
   "cell_type": "markdown",
   "id": "ecf0ca9c-46a1-4fb9-8bb1-6eb487713256",
   "metadata": {},
   "source": [
    "- 특정 DB에 직접 연결하겠습니다!"
   ]
  },
  {
   "cell_type": "code",
   "execution_count": 19,
   "id": "75b8adda-4271-4249-aa11-01f01bbc3192",
   "metadata": {},
   "outputs": [
    {
     "name": "stdout",
     "output_type": "stream",
     "text": [
      "Database 객체 : <mysql.connector.connection_cext.CMySQLConnection object at 0x0000016A3E051610>\n"
     ]
    }
   ],
   "source": [
    "try:\n",
    "    with connector.connect(\n",
    "        host = 'localhost',\n",
    "        user = 'root',\n",
    "        password = PASSWORD,\n",
    "        database = \"book_ratings\" # 이것이 기존 코드와의 차이점\n",
    "    ) as database:\n",
    "        print(f\"Database 객체 : {database}\")\n",
    "except connector.Error as e:\n",
    "    print(e)"
   ]
  },
  {
   "cell_type": "markdown",
   "id": "5e70c12b-8403-42e5-8a76-1e67baae0e70",
   "metadata": {},
   "source": [
    "# Step 3. Creating Tables"
   ]
  },
  {
   "cell_type": "code",
   "execution_count": 20,
   "id": "e7e3ca8c-4058-4e8d-b66a-9df16046e9e7",
   "metadata": {},
   "outputs": [
    {
     "name": "stdout",
     "output_type": "stream",
     "text": [
      "Database 객체 : <mysql.connector.connection_cext.CMySQLConnection object at 0x0000016A3E05B590>\n",
      "('id', 'int', 'NO', 'PRI', None, 'auto_increment')\n",
      "('title', 'varchar(100)', 'YES', '', None, '')\n",
      "('author', 'varchar(100)', 'YES', '', None, '')\n",
      "('genre', 'varchar(100)', 'YES', '', None, '')\n",
      "('release_year', 'year', 'YES', '', None, '')\n"
     ]
    }
   ],
   "source": [
    "create_books_table = \"\"\"\n",
    "    CREATE TABLE books(\n",
    "        id INT NOT NULL AUTO_INCREMENT PRIMARY KEY,\n",
    "        title VARCHAR(100),\n",
    "        author VARCHAR(100),\n",
    "        genre VARCHAR(100),\n",
    "        release_year YEAR(4)\n",
    "    );\n",
    "\"\"\"\n",
    "\n",
    "try:\n",
    "    with connector.connect(\n",
    "        host = 'localhost',\n",
    "        user = 'root',\n",
    "        password = PASSWORD,\n",
    "        database = \"book_ratings\" # 이것이 기존 코드와의 차이점\n",
    "    ) as database:\n",
    "        print(f\"Database 객체 : {database}\")\n",
    "\n",
    "        # cursor dbject 접근 후, 위 쿼리 실행\n",
    "        with database.cursor() as cursor:\n",
    "            cursor.execute(create_books_table)\n",
    "            database.commit()\n",
    "\n",
    "            # 테이블 확인 DESCRIBE\n",
    "            describe_books = \"DESCRIBE books;\"\n",
    "            cursor.execute(describe_books)\n",
    "            book_schema = cursor.fetchall()\n",
    "            for column in book_schema:\n",
    "                print(column)\n",
    "except connector.Error as e:\n",
    "    print(e)"
   ]
  },
  {
   "cell_type": "markdown",
   "id": "bc91d80e-d987-4b8b-8b37-df63fccf629b",
   "metadata": {},
   "source": [
    "# Step 4. Data Insertion\n",
    "- 하나의 레코드 추가할 때와 다중 레코드 추가할 때 사용하는 메서드 다름"
   ]
  },
  {
   "cell_type": "code",
   "execution_count": null,
   "id": "c12f364c-508a-46dc-a45f-2b4801747d45",
   "metadata": {},
   "outputs": [],
   "source": [
    "# INSERET INTO 테이블명 (컬럼명1, 컬럼명2, 컬럼명3....) VALUES (%s, %s, ...)"
   ]
  },
  {
   "cell_type": "code",
   "execution_count": 21,
   "id": "f26bc9a6-e075-423b-85a9-7b6c151067e4",
   "metadata": {},
   "outputs": [],
   "source": [
    "insert_single_record = \"INSERT INTO books (id, title, author, genre, release_year)\\\n",
    "    VALUES (%s, %s, %s, %s, %s)\"\n",
    "single_record = (\n",
    "    \"1\", \"Choose Yourself! Be Happy, Make Millions, Live the Dream\", \"James Altucher\", \"self-help\", \"2013\"\n",
    "    )"
   ]
  },
  {
   "cell_type": "code",
   "execution_count": 22,
   "id": "943cd3e4-7a11-469b-9ac2-96ef79f88afd",
   "metadata": {},
   "outputs": [
    {
     "name": "stdout",
     "output_type": "stream",
     "text": [
      "Database 객체 : <mysql.connector.connection_cext.CMySQLConnection object at 0x0000016A3E017A90>\n"
     ]
    }
   ],
   "source": [
    "try:\n",
    "    with connector.connect(\n",
    "        host = 'localhost',\n",
    "        user = 'root',\n",
    "        password = PASSWORD,\n",
    "        database = \"book_ratings\" # 이것이 기존 코드와의 차이점\n",
    "    ) as database:\n",
    "        print(f\"Database 객체 : {database}\")\n",
    "\n",
    "        # 커서 생성 후, 쿼리 실행\n",
    "        with database.cursor() as cursor:\n",
    "            cursor.execute(insert_single_record, single_record)\n",
    "            database.commit()\n",
    "except connector.Error as e:\n",
    "    print(e)"
   ]
  },
  {
   "cell_type": "markdown",
   "id": "5ec0fbbe-82af-46ad-836c-d3079d3f858b",
   "metadata": {},
   "source": [
    "- 다중 레코드를 추가하자"
   ]
  },
  {
   "cell_type": "code",
   "execution_count": 23,
   "id": "7d48389b-d4e2-4fca-9626-af756716782c",
   "metadata": {},
   "outputs": [],
   "source": [
    "insert_multiple_records = \"INSERT INTO books (id, title, author, genre, release_year)\\\n",
    "    VALUES (%s, %s, %s, %s, %s)\"\n",
    "multiple_records = [\n",
    "    (\n",
    "        \"2\", \n",
    "        \"Skip the Line: The 10,000 Experiments Rule and Other Surprising Advice for Reaching Your Goals\",\n",
    "        \"James Altucher\",\n",
    "        \"self-help\",\n",
    "        \"2021\"        \n",
    "    ),\n",
    "    (\n",
    "        \"3\",\n",
    "        \"The Power of No: Because One Little Word Can Bring Health, Abundance, and Happiness\",\n",
    "        \"James Altucher\",\n",
    "        \"self-help\",\n",
    "        \"2014\"\n",
    "    ),\n",
    "    (\n",
    "        \"4\",\n",
    "        \"The 48 Laws of Power\",\n",
    "        \"Robert Greene\",\n",
    "        \"self-help\",\n",
    "        \"1998\"\n",
    "    ),\n",
    "    (\n",
    "        \"5\",\n",
    "        \"Mastery\",\n",
    "        \"Robert Greene\",\n",
    "        \"self-help\",\n",
    "        \"2012\"\n",
    "    ),\n",
    "    (\n",
    "        \"6\",\n",
    "        \"The Art of Seduction\",\n",
    "        \"Robert Greene\",\n",
    "        \"self-help\",\n",
    "        \"2001\"\n",
    "    ),\n",
    "]"
   ]
  },
  {
   "cell_type": "code",
   "execution_count": 24,
   "id": "ff08e960-8bc1-41ed-a677-d5294944cc0a",
   "metadata": {},
   "outputs": [
    {
     "name": "stdout",
     "output_type": "stream",
     "text": [
      "Database 객체 : <mysql.connector.connection_cext.CMySQLConnection object at 0x0000016A3E052650>\n"
     ]
    }
   ],
   "source": [
    "try:\n",
    "    with connector.connect(\n",
    "        host = 'localhost',\n",
    "        user = 'root',\n",
    "        password = PASSWORD,\n",
    "        database = \"book_ratings\" # 이것이 기존 코드와의 차이점\n",
    "    ) as database:\n",
    "        print(f\"Database 객체 : {database}\")\n",
    "\n",
    "        # 커서 생성 후, 쿼리 실행\n",
    "        with database.cursor() as cursor:\n",
    "            # cursor.execute(insert_single_record, single_record)\n",
    "            cursor.executemany(insert_multiple_records, multiple_records)\n",
    "            database.commit()\n",
    "except connector.Error as e:\n",
    "    print(e)"
   ]
  },
  {
   "cell_type": "markdown",
   "id": "209fd33e-34a5-4d05-91f7-5f76c492a6e5",
   "metadata": {},
   "source": [
    "# Step 5. Selecting Data"
   ]
  },
  {
   "cell_type": "code",
   "execution_count": 33,
   "id": "58ce5488-3361-4d6f-9db5-fc6419f5d1ae",
   "metadata": {},
   "outputs": [
    {
     "name": "stdout",
     "output_type": "stream",
     "text": [
      "Database 객체 : <mysql.connector.connection_cext.CMySQLConnection object at 0x0000016A669A3D90>\n"
     ]
    }
   ],
   "source": [
    "try:\n",
    "    with connector.connect(\n",
    "        host = 'localhost',\n",
    "        user = 'root',\n",
    "        password = PASSWORD,\n",
    "        database = \"book_ratings\" # 이것이 기존 코드와의 차이점\n",
    "    ) as database:\n",
    "        print(f\"Database 객체 : {database}\")\n",
    "\n",
    "        # 커서 생성 후, 쿼리 실행\n",
    "        with database.cursor() as cursor:\n",
    "            # 쿼리문 작성\n",
    "            select_cols = \"SELECT author, release_year FROM books;\"\n",
    "            cursor.execute(select_cols)\n",
    "\n",
    "            # 데이터 확인\n",
    "            df = cursor.fetchall()\n",
    "            columns = [desc[0] for desc in cursor.description]  # 컬럼 이름 가져오기\n",
    "            df = pd.DataFrame(df, columns=columns)\n",
    "            df\n",
    "           \n",
    "except connector.Error as e:\n",
    "    print(e)"
   ]
  },
  {
   "cell_type": "markdown",
   "id": "84b4adc7-4a79-4d37-8484-9d9d640bdd82",
   "metadata": {},
   "source": [
    "## SELECT 사용자 정의 함수 만들기\n",
    "- 어떤 테이블을 조회해도 깔끔하게 데이터프레임으로 만드는 함수를 만드시고,\n",
    "- 테스트를 해주세요"
   ]
  },
  {
   "cell_type": "code",
   "execution_count": null,
   "id": "0a3d91b2-2e7a-4f9e-b74e-2b9ab61d4df7",
   "metadata": {},
   "outputs": [],
   "source": [
    "def tbtodf() :"
   ]
  },
  {
   "cell_type": "code",
   "execution_count": 26,
   "id": "78ed3ca0-a164-468c-9297-c9e7cf15114e",
   "metadata": {},
   "outputs": [],
   "source": [
    "import pandas as pd"
   ]
  },
  {
   "cell_type": "code",
   "execution_count": 34,
   "id": "2d26c32c-2b97-4e7e-95fd-8d39834be6d3",
   "metadata": {},
   "outputs": [
    {
     "data": {
      "text/html": [
       "<div>\n",
       "<style scoped>\n",
       "    .dataframe tbody tr th:only-of-type {\n",
       "        vertical-align: middle;\n",
       "    }\n",
       "\n",
       "    .dataframe tbody tr th {\n",
       "        vertical-align: top;\n",
       "    }\n",
       "\n",
       "    .dataframe thead th {\n",
       "        text-align: right;\n",
       "    }\n",
       "</style>\n",
       "<table border=\"1\" class=\"dataframe\">\n",
       "  <thead>\n",
       "    <tr style=\"text-align: right;\">\n",
       "      <th></th>\n",
       "      <th>author</th>\n",
       "      <th>release_year</th>\n",
       "    </tr>\n",
       "  </thead>\n",
       "  <tbody>\n",
       "    <tr>\n",
       "      <th>0</th>\n",
       "      <td>James Altucher</td>\n",
       "      <td>2013</td>\n",
       "    </tr>\n",
       "    <tr>\n",
       "      <th>1</th>\n",
       "      <td>James Altucher</td>\n",
       "      <td>2021</td>\n",
       "    </tr>\n",
       "    <tr>\n",
       "      <th>2</th>\n",
       "      <td>James Altucher</td>\n",
       "      <td>2014</td>\n",
       "    </tr>\n",
       "    <tr>\n",
       "      <th>3</th>\n",
       "      <td>Robert Greene</td>\n",
       "      <td>1998</td>\n",
       "    </tr>\n",
       "    <tr>\n",
       "      <th>4</th>\n",
       "      <td>Robert Greene</td>\n",
       "      <td>2012</td>\n",
       "    </tr>\n",
       "    <tr>\n",
       "      <th>5</th>\n",
       "      <td>Robert Greene</td>\n",
       "      <td>2001</td>\n",
       "    </tr>\n",
       "  </tbody>\n",
       "</table>\n",
       "</div>"
      ],
      "text/plain": [
       "           author  release_year\n",
       "0  James Altucher          2013\n",
       "1  James Altucher          2021\n",
       "2  James Altucher          2014\n",
       "3   Robert Greene          1998\n",
       "4   Robert Greene          2012\n",
       "5   Robert Greene          2001"
      ]
     },
     "execution_count": 34,
     "metadata": {},
     "output_type": "execute_result"
    }
   ],
   "source": [
    "df"
   ]
  },
  {
   "cell_type": "code",
   "execution_count": 40,
   "id": "75de3d32-822b-4586-a43e-e6e783b6ad79",
   "metadata": {},
   "outputs": [
    {
     "name": "stdout",
     "output_type": "stream",
     "text": [
      "Database 객체 : <mysql.connector.connection_cext.CMySQLConnection object at 0x0000016A669EF610>\n"
     ]
    },
    {
     "data": {
      "text/html": [
       "<div>\n",
       "<style scoped>\n",
       "    .dataframe tbody tr th:only-of-type {\n",
       "        vertical-align: middle;\n",
       "    }\n",
       "\n",
       "    .dataframe tbody tr th {\n",
       "        vertical-align: top;\n",
       "    }\n",
       "\n",
       "    .dataframe thead th {\n",
       "        text-align: right;\n",
       "    }\n",
       "</style>\n",
       "<table border=\"1\" class=\"dataframe\">\n",
       "  <thead>\n",
       "    <tr style=\"text-align: right;\">\n",
       "      <th></th>\n",
       "      <th>CUSTOMER_CD</th>\n",
       "      <th>CUSTOMER_NM</th>\n",
       "      <th>MW_FLG</th>\n",
       "      <th>BIRTH_DAY</th>\n",
       "      <th>PHONE_NUMBER</th>\n",
       "      <th>EMAIL</th>\n",
       "      <th>TOTAL_POINT</th>\n",
       "      <th>REG_DTTM</th>\n",
       "    </tr>\n",
       "  </thead>\n",
       "  <tbody>\n",
       "    <tr>\n",
       "      <th>0</th>\n",
       "      <td>2017042</td>\n",
       "      <td>강원진</td>\n",
       "      <td>M</td>\n",
       "      <td>19810603</td>\n",
       "      <td>002-8202-8790</td>\n",
       "      <td>wjgang@navi.com</td>\n",
       "      <td>280300</td>\n",
       "      <td>20170123132432</td>\n",
       "    </tr>\n",
       "    <tr>\n",
       "      <th>1</th>\n",
       "      <td>2017053</td>\n",
       "      <td>나경숙</td>\n",
       "      <td>W</td>\n",
       "      <td>19891225</td>\n",
       "      <td>002-4509-0043</td>\n",
       "      <td>ksna#boram.co.kr</td>\n",
       "      <td>4500</td>\n",
       "      <td>20170210180930</td>\n",
       "    </tr>\n",
       "    <tr>\n",
       "      <th>2</th>\n",
       "      <td>2017108</td>\n",
       "      <td>박승대</td>\n",
       "      <td>M</td>\n",
       "      <td>19711430</td>\n",
       "      <td></td>\n",
       "      <td>sdpark@haso.com</td>\n",
       "      <td>23450</td>\n",
       "      <td>20170508203450</td>\n",
       "    </tr>\n",
       "    <tr>\n",
       "      <th>3</th>\n",
       "      <td>2018087</td>\n",
       "      <td>서유리</td>\n",
       "      <td>W</td>\n",
       "      <td>19810925</td>\n",
       "      <td>003-1265-8372</td>\n",
       "      <td>urseo@epnt.co.kr</td>\n",
       "      <td>18700</td>\n",
       "      <td>20180204160903</td>\n",
       "    </tr>\n",
       "    <tr>\n",
       "      <th>4</th>\n",
       "      <td>2018254</td>\n",
       "      <td>이혜옥</td>\n",
       "      <td>W</td>\n",
       "      <td>19839012</td>\n",
       "      <td>003_1287_9734</td>\n",
       "      <td>hylee@hansoft.com</td>\n",
       "      <td>570</td>\n",
       "      <td>20180619230805</td>\n",
       "    </tr>\n",
       "    <tr>\n",
       "      <th>5</th>\n",
       "      <td>2019001</td>\n",
       "      <td>김진숙</td>\n",
       "      <td>W</td>\n",
       "      <td>20010426</td>\n",
       "      <td>002-9842-0074</td>\n",
       "      <td>jskim$dreami,org</td>\n",
       "      <td>12820</td>\n",
       "      <td>20190101080518</td>\n",
       "    </tr>\n",
       "    <tr>\n",
       "      <th>6</th>\n",
       "      <td>2019069</td>\n",
       "      <td>김한길</td>\n",
       "      <td>M</td>\n",
       "      <td>19920315</td>\n",
       "      <td></td>\n",
       "      <td>hkkim@ssoya.com</td>\n",
       "      <td>15320</td>\n",
       "      <td>20190217110704</td>\n",
       "    </tr>\n",
       "    <tr>\n",
       "      <th>7</th>\n",
       "      <td>2019095</td>\n",
       "      <td>남궁소망</td>\n",
       "      <td>M</td>\n",
       "      <td>19620728</td>\n",
       "      <td>003-6273-8539</td>\n",
       "      <td></td>\n",
       "      <td>890</td>\n",
       "      <td>20190312124558</td>\n",
       "    </tr>\n",
       "    <tr>\n",
       "      <th>8</th>\n",
       "      <td>2019167</td>\n",
       "      <td>한찬희</td>\n",
       "      <td>M</td>\n",
       "      <td>19711106</td>\n",
       "      <td>002=1202=5563</td>\n",
       "      <td>chhan@ecom.co.kr</td>\n",
       "      <td>6800</td>\n",
       "      <td>20190508155600</td>\n",
       "    </tr>\n",
       "    <tr>\n",
       "      <th>9</th>\n",
       "      <td>2019281</td>\n",
       "      <td>이아름</td>\n",
       "      <td>W</td>\n",
       "      <td>19940513</td>\n",
       "      <td>003-2620-0723</td>\n",
       "      <td>aulee@hoki.com</td>\n",
       "      <td>35600</td>\n",
       "      <td>20190709201308</td>\n",
       "    </tr>\n",
       "  </tbody>\n",
       "</table>\n",
       "</div>"
      ],
      "text/plain": [
       "  CUSTOMER_CD CUSTOMER_NM MW_FLG BIRTH_DAY   PHONE_NUMBER              EMAIL  \\\n",
       "0     2017042         강원진      M  19810603  002-8202-8790    wjgang@navi.com   \n",
       "1     2017053         나경숙      W  19891225  002-4509-0043   ksna#boram.co.kr   \n",
       "2     2017108         박승대      M  19711430                   sdpark@haso.com   \n",
       "3     2018087         서유리      W  19810925  003-1265-8372   urseo@epnt.co.kr   \n",
       "4     2018254         이혜옥      W  19839012  003_1287_9734  hylee@hansoft.com   \n",
       "5     2019001         김진숙      W  20010426  002-9842-0074   jskim$dreami,org   \n",
       "6     2019069         김한길      M  19920315                   hkkim@ssoya.com   \n",
       "7     2019095        남궁소망      M  19620728  003-6273-8539                      \n",
       "8     2019167         한찬희      M  19711106  002=1202=5563   chhan@ecom.co.kr   \n",
       "9     2019281         이아름      W  19940513  003-2620-0723     aulee@hoki.com   \n",
       "\n",
       "   TOTAL_POINT        REG_DTTM  \n",
       "0       280300  20170123132432  \n",
       "1         4500  20170210180930  \n",
       "2        23450  20170508203450  \n",
       "3        18700  20180204160903  \n",
       "4          570  20180619230805  \n",
       "5        12820  20190101080518  \n",
       "6        15320  20190217110704  \n",
       "7          890  20190312124558  \n",
       "8         6800  20190508155600  \n",
       "9        35600  20190709201308  "
      ]
     },
     "execution_count": 40,
     "metadata": {},
     "output_type": "execute_result"
    }
   ],
   "source": [
    "def fetch_table_to_dataframe(database_name, table_name, host='localhost', user='root', password='1234'):\n",
    "    try:\n",
    "        with connector.connect(\n",
    "            host=host,\n",
    "            user=user,\n",
    "            password=password,\n",
    "            database=database_name\n",
    "        ) as database:\n",
    "            print(f\"Database 객체 : {database}\")\n",
    "\n",
    "            # 커서 생성 후, 쿼리 실행\n",
    "            with database.cursor() as cursor:\n",
    "                # 쿼리문 작성\n",
    "                query = f\"SELECT * FROM {table_name};\"\n",
    "                cursor.execute(query)\n",
    "\n",
    "                # 데이터 확인\n",
    "                rows = cursor.fetchall()\n",
    "                columns = [desc[0] for desc in cursor.description]  # 컬럼 이름 가져오기\n",
    "                df = pd.DataFrame(rows, columns=columns)\n",
    "                return df\n",
    "               \n",
    "    except connector.Error as e:\n",
    "        print(e)\n",
    "        return None\n",
    "\n",
    "# 테스트 함수 호출\n",
    "database_name = 'testdb'\n",
    "table_name = 'tb_customer'\n",
    "\n",
    "df = fetch_table_to_dataframe(database_name, table_name)\n",
    "df"
   ]
  },
  {
   "cell_type": "markdown",
   "id": "cbea762b-9e99-4453-b7f9-a09bc900d3e8",
   "metadata": {},
   "source": [
    "# Step 6. Update and Delete\n",
    "-"
   ]
  },
  {
   "cell_type": "code",
   "execution_count": 42,
   "id": "05cefc41-a471-4f45-bba7-e22faf030389",
   "metadata": {},
   "outputs": [
    {
     "name": "stdout",
     "output_type": "stream",
     "text": [
      "Database 객체 : <mysql.connector.connection_cext.CMySQLConnection object at 0x0000016A3E05BF90>\n",
      "('Big J',)\n",
      "('Robert Greene',)\n"
     ]
    }
   ],
   "source": [
    "update_query = \"\"\"\n",
    "    UPDATE\n",
    "        books\n",
    "    SET\n",
    "        author = 'Big J'\n",
    "    WHERE\n",
    "        author = 'James Altucher'\n",
    "\"\"\"\n",
    "\n",
    "try:\n",
    "    with connector.connect(\n",
    "        host = 'localhost',\n",
    "        user = 'root',\n",
    "        password = PASSWORD,\n",
    "        database = \"book_ratings\" # 이것이 기존 코드와의 차이점\n",
    "    ) as database:\n",
    "        print(f\"Database 객체 : {database}\")\n",
    "\n",
    "        # 커서 생성 후, 쿼리 실행\n",
    "        with database.cursor() as cursor:\n",
    "            cursor.execute(update_query)\n",
    "            database.commit()\n",
    "\n",
    "            check_query = \"SELECT DISTINCT author FROM books\"\n",
    "            cursor.execute(check_query)\n",
    "\n",
    "            for result in cursor.fetchall():\n",
    "                print(result)\n",
    "                \n",
    "except connector.Error as e:\n",
    "    print(e)"
   ]
  },
  {
   "cell_type": "markdown",
   "id": "3766479b-fe69-416a-a416-9e342b0c1c83",
   "metadata": {},
   "source": [
    "# Step 7. Delete Records"
   ]
  },
  {
   "cell_type": "code",
   "execution_count": 43,
   "id": "7885be9a-480f-4600-b88f-2fa68aea81a8",
   "metadata": {},
   "outputs": [
    {
     "name": "stdout",
     "output_type": "stream",
     "text": [
      "Database 객체 : <mysql.connector.connection_cext.CMySQLConnection object at 0x0000016A67019790>\n",
      "(2013,)\n",
      "(2021,)\n",
      "(2014,)\n",
      "(2012,)\n"
     ]
    }
   ],
   "source": [
    "try:\n",
    "    with connector.connect(\n",
    "        host = 'localhost',\n",
    "        user = 'root',\n",
    "        password = PASSWORD,\n",
    "        database = \"book_ratings\" # 이것이 기존 코드와의 차이점\n",
    "    ) as database:\n",
    "        print(f\"Database 객체 : {database}\")\n",
    "\n",
    "        # 커서 생성 후, 쿼리 실행\n",
    "        with database.cursor() as cursor:\n",
    "\n",
    "            delete_query = \"DELETE FROM books WHERE release_year <= 2010;\"\n",
    "            cursor.execute(delete_query)\n",
    "            database.commit()\n",
    "\n",
    "            check_query = \"SELECT DISTINCT release_year FROM books\"\n",
    "            cursor.execute(check_query)\n",
    "            for result in cursor.fetchall():\n",
    "                print(result)\n",
    "                \n",
    "except connector.Error as e:\n",
    "    print(e)"
   ]
  }
 ],
 "metadata": {
  "kernelspec": {
   "display_name": "Python 3 (ipykernel)",
   "language": "python",
   "name": "python3"
  },
  "language_info": {
   "codemirror_mode": {
    "name": "ipython",
    "version": 3
   },
   "file_extension": ".py",
   "mimetype": "text/x-python",
   "name": "python",
   "nbconvert_exporter": "python",
   "pygments_lexer": "ipython3",
   "version": "3.11.7"
  }
 },
 "nbformat": 4,
 "nbformat_minor": 5
}
